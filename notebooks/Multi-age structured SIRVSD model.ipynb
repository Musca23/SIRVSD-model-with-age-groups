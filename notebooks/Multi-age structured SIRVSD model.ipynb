{
 "cells": [
  {
   "cell_type": "markdown",
   "metadata": {},
   "source": [
    "# Computational Models for Complex Systems Project\n",
    "\n",
    "## Implementation of a SIRVSD model with different age goups\n",
    "\n",
    "### The model\n",
    "$$\n",
    "\\begin{equation}\n",
    "    \\begin{cases}\n",
    "    \\frac{\\textit{dS}_j}{\\textit{dt}} = \\phi \\textit{R}_j - \\eta_j (t) \\textit{S}_j + \\rho \\textit{V}_j - \\textit{S}_j \\sum_{k=1}^M \\beta_{j,k} \\textit{I}_k \\\\[4pt]\n",
    "    \\frac{\\textit{dI}_j}{\\textit{dt}} = - \\gamma \\textit{I}_j - \\mu_j \\textit{I}_j + \\textit{S}_j \\sum_{k=1}^M \\beta_{j,k} \\textit{I}_k \\\\[4pt]\n",
    "    \\frac{\\textit{dR}_j}{\\textit{dt}} = \\gamma \\textit{I}_j - \\phi \\textit{R}_j & \\hspace{10pt} \\forall j \\in \\left(0, M\\right] \\\\[4pt]\n",
    "    \\frac{\\textit{dV}_j}{\\textit{dt}} = \\eta_j (t) \\textit{S}_j - \\rho \\textit{V}_j \\\\[4pt]\n",
    "    \\frac{\\textit{dD}_j}{\\textit{dt}} = \\mu_j \\textit{I}_j \\\\[4pt]\n",
    "    \\end{cases}\n",
    "\\end{equation}\n",
    "$$\n",
    "\n",
    "with $M$ = 4 age groups: Children, Teenagers, Adults and Senior Citizens."
   ]
  },
  {
   "cell_type": "markdown",
   "metadata": {},
   "source": [
    "### Transition Schema\n",
    "<img src=\"../plots/SIRVSD_transition_schema.jpg\" style=\"width: 750px;height:400px\"/>"
   ]
  },
  {
   "cell_type": "markdown",
   "metadata": {},
   "source": [
    "### Model assumptions\n",
    "- Constant population and each compartment is normalized (S+I+R+V+D = 1).\n",
    "- We don't consider vital dynamics (reproduction, \"natural\" death, migration), only the deaths caused by disease.\n",
    "- Some coefficients are the same for all age group (only transmission, vaccination and mortality coefficients are different).\n",
    "- We consider symmetric matrix for the transmission coefficients (heterogeneous contacts).\n",
    "- Both recovery and vaccination immunity are not forever, but it ensures 100\\% protection from infection.\n",
    "- Just one injection of the vaccine is considered.\n",
    "- Disease is transmitted by personal contacts between individuals of I and S classes (horizontal transmission).\n",
    "- Contacts between individuals are random, the number of infections is proportional to both I and S."
   ]
  },
  {
   "cell_type": "markdown",
   "metadata": {},
   "source": [
    "### Definition of parameters\n",
    "In our system, we have a lot of different coefficients:\n",
    "- $\\phi$ is the $\\textit{transfer coefficient}$ for loss of immunity from Recovered.\n",
    "- $\\rho$ is the $\\textit{transfer coefficient}$ for loss of immunity from Vaccinated.\n",
    "- $\\beta_{j, k}$ is the $\\textit{infection coefficient}$, computed as the average number of contacts per person per time, multiplied by the probability of disease transmission in a contact between a susceptible subject of group $j$ and an infected subject of group $k$. <br>\n",
    "We define also the entire $\\textit{infection coefficient matrix}$ $\\beta$ (or $\\textit{contact matrix}$): \n",
    "$$\\beta = \\begin{bmatrix}\n",
    "        \\beta_{1, 1} & \\cdots & \\beta_{1, M}\\\\\n",
    "        \\vdots & \\ddots & \\vdots \\\\\n",
    "        \\beta_{M, 1} & \\cdots & \\beta_{M, M}\n",
    "\\end{bmatrix}\n",
    "$$\n",
    "- $\\gamma$ is the $\\textit{recovery coefficient}$ of each infected subject.\n",
    "- $\\mu_j$ is the $\\textit{mortality coefficient}$, different for each age group.\n",
    "\n",
    "The last coefficient is $\\eta_j(t)$, a time-dependent $\\textit{vaccination coefficient}$, defines as follows:\n",
    "$$\n",
    "    \\begin{equation}\n",
    "        \\eta_j (t) = \n",
    "        \\begin{cases}\n",
    "            0 &\\quad\\text{if } t < t_{\\textit{vacc}_j}\\\\\n",
    "            \\eta_j &\\quad\\text{otherwise}\n",
    "        \\end{cases}\n",
    "    \\end{equation}\n",
    "$$\n",
    "\n",
    "where $t_{\\textit{vacc}_j}$ defines the starting day of the vaccination period."
   ]
  },
  {
   "cell_type": "code",
   "execution_count": 1,
   "metadata": {},
   "outputs": [],
   "source": [
    "import numpy as np\n",
    "from scipy.integrate import odeint, solve_ivp\n",
    "import matplotlib.pyplot as plt"
   ]
  },
  {
   "cell_type": "code",
   "execution_count": 2,
   "metadata": {},
   "outputs": [],
   "source": [
    "def sirvd_solver(t,beta_matrix,gamma,mu_group,phi, rho,eta_group,x0,start_vaccination):\n",
    "    \"\"\"Wrapper function to compute ODEs using different APIs (currently only with methods of SciPy)\n",
    "\n",
    "    Args:\n",
    "        t (np.ndarray): simulation time\n",
    "        beta_matrix (np.ndarray): infection coefficient for each group\n",
    "        gamma (float): recovery coefficient (same for all group)\n",
    "        mu_group (list): mortality coefficient for each group (case fatality rate ISS report January 2021)\n",
    "        phi (float): transfer coefficient for loss of immunity from recovered (six months of immunity and same for all group)\n",
    "        rho (float): transfer coefficient for loss of immunity from vaccinated (nine months of immunity and same for all group)\n",
    "        eta_group (list): vaccination coefficient for each group\n",
    "        x0 (list): initial conditions\n",
    "        start_vaccination (list): day of start of the vaccination period for each group\n",
    "    \"\"\"\n",
    "    def assign_vaccination_coefficient(t, eta, start_vaccination):\n",
    "        \"\"\"Auxiliary function to assign time-dependent vaccination coefficient eta\n",
    "\n",
    "        Args:\n",
    "            t (float): scalar representing the current timestamp\n",
    "            eta (float): vaccination coefficient\n",
    "            start_vaccination (int): starting day of vaccination\n",
    "\n",
    "        Returns:\n",
    "            float: eta for a specific timestamp (0 or eta)\n",
    "        \"\"\"\n",
    "        if t < start_vaccination or start_vaccination == -1: # -1 means no vaccination for a specific age group\n",
    "            return 0\n",
    "        else:\n",
    "            return eta\n",
    "    \n",
    "    def sirvd(t,x,beta_matrix,gamma,mu_group,phi,rho,eta_group,start_vaccination,assign_vaccination_coefficient):\n",
    "        \"\"\"\n",
    "        Function called by solve_ivp (or odeint) to compute the derivative of x at t.\n",
    "        \"\"\"\n",
    "        n_groups = len(start_vaccination) # or any other \"_group\" parameter\n",
    "        derivatives_matrix = np.zeros((5,4)) # save all derivatives in a 2-D array\n",
    "        n_infectious = [x[j+n_groups] for j in range(0,n_groups)] # list of the number of infectious measured for each group\n",
    "        for j in range(0,n_groups):\n",
    "            s = x[j] # Susceptible\n",
    "            # i = n_infectious[j]\n",
    "            i = x[j+n_groups] # Infectious\n",
    "            r = x[j+n_groups*2] # Recovered\n",
    "            v = x[j+n_groups*3] # Vaccinated\n",
    "            d = x[j+n_groups*4] # Deceased\n",
    "            eta = assign_vaccination_coefficient(t,eta_group[j],start_vaccination[j]) # time-dependent parameter\n",
    "            derivatives_matrix[0][j] = phi*r - eta*s + rho*v - s*np.dot(beta_matrix[j],n_infectious) # dsdt\n",
    "            derivatives_matrix[1][j] = s*np.dot(beta_matrix[j],n_infectious) - gamma*i - mu_group[j]*i # didt\n",
    "            derivatives_matrix[2][j] = gamma*i - phi*r # drdt\n",
    "            derivatives_matrix[3][j] = eta*s - rho*v # dvdt\n",
    "            derivatives_matrix[4][j] = mu_group[j]*i # dddt\n",
    "        return derivatives_matrix.reshape(-1) # return all measurements with a 1-D array\n",
    "\n",
    "    # odeint solve a system of ordinary differential equations using lsoda from the FORTRAN library odepack.\n",
    "    # y = odeint(sirvd,x0,t,tfirst=True,args=(beta_matrix,gamma,mu_group,phi,rho,eta_group,start_vaccination,assign_vaccination_coefficient,))\n",
    "    # return y\n",
    "    # for new code, use scipy.integrate.solve_ivp to solve a differential equation (SciPy documentation).\n",
    "    sol = solve_ivp(sirvd,[t[0],t[-1]],x0,t_eval=t,args=(beta_matrix,gamma,mu_group,phi,rho,eta_group,start_vaccination,assign_vaccination_coefficient,))\n",
    "    return sol.y.T"
   ]
  },
  {
   "cell_type": "markdown",
   "metadata": {},
   "source": [
    "### Case Study: COVID-19 pandemic\n",
    "### Definition of constants\n",
    "We considered these groups:\n",
    "- Children (0-9 years)\n",
    "- Teenagers (10-19 years)\n",
    "- Adults (20-69 years)\n",
    "- Senior Citizens (70+ years)\n",
    "\n",
    "In the following initial conditions and parameters, we define an indexing like this:\n",
    "\n",
    "    S_0_GROUP = [x, y, w, y]\n",
    "        - x is the intitial number of susceptible in \"Children\" group\n",
    "        - y is the intitial number of susceptible in \"Teenagers\" group\n",
    "        - w is the intitial number of susceptible in \"Adults\" group\n",
    "        - z is the intitial number of susceptible in \"Senior Citizens\" group\n",
    "\n",
    "We can change the value of the costants, according to the experiments we want to run and the plots we want to analyze."
   ]
  },
  {
   "cell_type": "code",
   "execution_count": 3,
   "metadata": {},
   "outputs": [],
   "source": [
    "group_dict = {\n",
    "    \"children\": 0,\n",
    "    \"teenagers\": 1,\n",
    "    \"adults\": 2,\n",
    "    \"senior\": 3\n",
    "}\n",
    "START = 0 # observation starting day\n",
    "END = 365 # observation ending day\n",
    "START_VACCINATION_GROUP = [-1, -1, -1, -1] # day of start of the vaccination period (-1 means no vaccination)\n",
    "\n",
    "# initial conditions\n",
    "S_0_GROUP = [0.99, 0.99, 0.99, 0.99] # Susceptible\n",
    "I_0_GROUP = [0.01, 0.01, 0.01, 0.01] # Infectious\n",
    "R_0_GROUP = [0, 0, 0, 0] # Recovered\n",
    "V_0_GROUP = [0, 0, 0, 0] # Vaccinated\n",
    "D_0_GROUP = [0, 0, 0, 0] # Deceased\n",
    "\n",
    "# model parameters\n",
    "beta_matrix = np.array([[0.05,0.003,0.04,0.005],[0.003,0.09,0.07,0.007],[0.04,0.07,0.09,0.02],[0.005,0.007,0.02,0.03]]) # infection coefficient for each group\n",
    "gamma = 1/15 # recovery coefficient (same for all group)\n",
    "mu_group = [0.00009, 0.00005, 0.00688, 0.15987] # mortality coefficient for each group (case fatality rate ISS report January 2021)\n",
    "phi = 1/180 # transfer coefficient for loss of immunity from recovered (six months of immunity and same for all group)\n",
    "rho = 1/270 # transfer coefficient for loss of immunity from vaccinated (nine months of immunity and same for all group)\n",
    "eta_group = [0.003, 0.003, 0.003, 0.01] # vaccination coefficient for each group\n",
    "\n",
    "t = np.linspace(START,END,END-START+1) # setting the simulation time and the number of points"
   ]
  },
  {
   "cell_type": "markdown",
   "metadata": {},
   "source": [
    "### Function call with same vaccination strategy"
   ]
  },
  {
   "cell_type": "code",
   "execution_count": 4,
   "metadata": {
    "scrolled": true
   },
   "outputs": [],
   "source": [
    "results_dict = {}\n",
    "x_0 = [*S_0_GROUP, *I_0_GROUP, *R_0_GROUP, *V_0_GROUP, *D_0_GROUP] # unpacking list operator\n",
    "y = sirvd_solver(t, beta_matrix, gamma, mu_group, phi, rho, eta_group, x_0, START_VACCINATION_GROUP)\n",
    "_, n_total_column = y.shape\n",
    "n_groups = len(group_dict) # number of age groups\n",
    "n_compartments = int(n_total_column/n_groups) # number of compartments of the model\n",
    "for group_name, group_id in group_dict.items():\n",
    "    # select the right columns (the compartments) for each age group \n",
    "    results_dict[group_name] = y[:,[group_id+n_groups*j for j in range(0,n_compartments)]]"
   ]
  },
  {
   "cell_type": "markdown",
   "metadata": {},
   "source": [
    "### Function call with combination of different vaccination strategy"
   ]
  },
  {
   "cell_type": "code",
   "execution_count": null,
   "metadata": {},
   "outputs": [],
   "source": [
    "\"\"\"vaccination_dict = {\n",
    "        \"no_vaccination\": 0,\n",
    "        \"vaccination_strategy_ascending_order\": 1,\n",
    "        \"vaccination_strategy_descending_order\": 2,\n",
    "        \"vaccination_strategy_same_time\": 3\n",
    "    }\n",
    "    results_dict = {}\n",
    "    x_0 = [*S_0_GROUP, *I_0_GROUP, *R_0_GROUP, *V_0_GROUP, *D_0_GROUP] # unpacking list operator\n",
    "    for vacc_name, vacc_id in vaccination_dict.items():\n",
    "        results_dict[vacc_name] = {}\n",
    "        if(vacc_id == 1): # ascending order\n",
    "            START_VACCINATION_GROUP = [0, 30, 60, 90]\n",
    "        elif(vacc_id == 2): # descending order\n",
    "            START_VACCINATION_GROUP = [90, 60, 30, 0]\n",
    "        elif(vacc_id == 3): # same time\n",
    "            START_VACCINATION_GROUP = [0, 0, 0, 0]\n",
    "            eta_group = [0.0025, 0.0025, 0.0025, 0.0025]\n",
    "        y = sirvd_solver(t, beta_matrix, gamma, mu_group, phi, rho, eta_group, x_0, START_VACCINATION_GROUP)\n",
    "        _, n_total_column = y.shape\n",
    "        n_groups = len(group_dict) # number of age groups\n",
    "        n_compartments = int(n_total_column/n_groups) # number of compartments of the model\n",
    "        for group_name, group_id in group_dict.items():\n",
    "            # select the right columns (the compartments) for each age group \n",
    "            results_dict[vacc_name][group_name] = y[:,[group_id+n_groups*j for j in range(0,n_compartments)]]\"\"\""
   ]
  },
  {
   "cell_type": "markdown",
   "metadata": {},
   "source": [
    "### References\n",
    "- [Compartmental models in epidemiology — Wikipedia, the free encyclopedia](https://en.wikipedia.org/wiki/Compartmental_models_in_epidemiology)\n",
    "- [Modeling Infectious Diseases in Humans and Animals](https://homepages.warwick.ac.uk/~masfz/ModelingInfectiousDiseases/Chapter3/Program_3.3/index.html)\n",
    "- [Influence of nonlinear incidence rates upon the behavior of SIRS epidemiological models](https://link.springer.com/content/pdf/10.1007/BF00276956.pdf)\n",
    "- [Analysis of COVID-19 Data with PRISM: Parameter Estimation and SIR Modelling](https://www.springerprofessional.de/en/analysis-of-covid-19-data-with-prism-parameter-estimation-and-si/18929902)\n",
    "- [Use of a Modified SIRD Model to Analyze COVID-19 Data](https://pubs.acs.org/doi/pdf/10.1021/acs.iecr.0c04754)\n",
    "- [Global  results  for  an  SIRS  model  with  vaccination and isolation](https://www.sciencedirect.com/science/article/abs/pii/S1468121810000763)\n",
    "- [Mathematical  models  of  contact patterns between age groups for predicting the spread of infectious diseases](https://www.ncbi.nlm.nih.gov/pmc/articles/PMC4002176/pdf/nihms-570528.pdf)\n",
    "- [A statistical methodology for data-driven partitioning of infectious disease incidence into age-groups](https://arxiv.org/pdf/1907.03441.pdf)\n",
    "- [Lab24 - Coronavirus in Italia, i dati e la mappa](https://lab24.ilsole24ore.com/coronavirus/#)\n",
    "- [SIR Modelling with data fitting in Python](https://github.com/Unipisa/SIR-covid)\n",
    "- [Matplotlib Documentation](https://matplotlib.org/stable/contents.html)"
   ]
  }
 ],
 "metadata": {
  "kernelspec": {
   "display_name": "Python 3",
   "language": "python",
   "name": "python3"
  },
  "language_info": {
   "codemirror_mode": {
    "name": "ipython",
    "version": 3
   },
   "file_extension": ".py",
   "mimetype": "text/x-python",
   "name": "python",
   "nbconvert_exporter": "python",
   "pygments_lexer": "ipython3",
   "version": "3.7.3"
  }
 },
 "nbformat": 4,
 "nbformat_minor": 2
}
