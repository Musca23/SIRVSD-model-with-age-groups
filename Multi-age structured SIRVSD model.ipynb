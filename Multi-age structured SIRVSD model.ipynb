{
 "cells": [
  {
   "cell_type": "markdown",
   "metadata": {},
   "source": [
    "# Computational Models for Complex Systems Project\n",
    "\n",
    "## Implementation of a SIRVSD model with different age goups\n",
    "\n",
    "### The model\n",
    "$$\n",
    "\\begin{equation}\n",
    "    \\begin{cases}\n",
    "    \\frac{\\textit{dS}_j}{\\textit{dt}} = \\phi \\textit{R}_j - \\eta_j (t) \\textit{S}_j + \\rho \\textit{V}_j - \\textit{S}_j \\sum_{k=1}^M \\beta_{j,k} \\textit{I}_k \\\\[4pt]\n",
    "    \\frac{\\textit{dI}_j}{\\textit{dt}} = - \\gamma \\textit{I}_j - \\mu_j \\textit{I}_j + \\textit{S}_j \\sum_{k=1}^M \\beta_{j,k} \\textit{I}_k \\\\[4pt]\n",
    "    \\frac{\\textit{dR}_j}{\\textit{dt}} = \\gamma \\textit{I}_j - \\phi \\textit{R}_j & \\hspace{10pt} \\forall j \\in \\left(0, M\\right] \\\\[4pt]\n",
    "    \\frac{\\textit{dV}_j}{\\textit{dt}} = \\eta_j (t) \\textit{S}_j - \\rho \\textit{V}_j \\\\[4pt]\n",
    "    \\frac{\\textit{dD}_j}{\\textit{dt}} = \\mu_j \\textit{I}_j \\\\[4pt]\n",
    "    \\end{cases}\n",
    "\\end{equation}\n",
    "$$\n",
    "\n",
    "with $M$ = 4 age groups: Children, Teenagers, Adults and Senior Citizens."
   ]
  },
  {
   "cell_type": "markdown",
   "metadata": {},
   "source": [
    "### Definition of parameters"
   ]
  },
  {
   "cell_type": "markdown",
   "metadata": {},
   "source": [
    "In our system, we have a lot of different coefficients:\n",
    "- $\\phi$ is the $\\textit{transfer rate}$ for loss of immunity from Recovered.\n",
    "- $\\rho$ is the $\\textit{transfer rate}$ for loss of immunity from Vaccinated.\n",
    "- $\\beta_{j, k}$ is the $\\textit{infection rate}$, computed as the average number of contacts per person per time, multiplied by the probability of disease transmission in a contact between a susceptible subject of group $j$ and an infected subject of group $k$. <br>\n",
    "We define also the entire $\\textit{infection rate matrix}$ $\\beta$ (or $\\textit{contact matrix}$): \n",
    "$$\\beta = \\begin{bmatrix}\n",
    "        \\beta_{1, 1} & \\cdots & \\beta_{1, M}\\\\\n",
    "        \\vdots & \\ddots & \\vdots \\\\\n",
    "        \\beta_{M, 1} & \\cdots & \\beta_{M, M}\n",
    "\\end{bmatrix}\n",
    "$$\n",
    "- $\\gamma$ is the $\\textit{recovery rate}$ of each infected subject.\n",
    "- $\\mu_j$ is the $\\textit{mortality rate}$, different for each age group.\n",
    "\n",
    "The last coefficient is $\\eta_j(t)$, a time-dependent $\\textit{vaccination rate}$, defines as follows:\n",
    "$$\n",
    "    \\begin{equation}\n",
    "        \\eta_j (t) = \n",
    "        \\begin{cases}\n",
    "            0 &\\quad\\text{if } t < t_{\\textit{vacc}_j}\\\\\n",
    "            \\eta_j &\\quad\\text{otherwise}\n",
    "        \\end{cases}\n",
    "    \\end{equation}\n",
    "$$\n",
    "\n",
    "where $t_{\\textit{vacc}_j}$ defines the starting day of the vaccination period."
   ]
  },
  {
   "cell_type": "code",
   "execution_count": 1,
   "metadata": {},
   "outputs": [],
   "source": [
    "import numpy as np\n",
    "from scipy.integrate import odeint\n",
    "import matplotlib.pyplot as plt"
   ]
  },
  {
   "cell_type": "code",
   "execution_count": 2,
   "metadata": {},
   "outputs": [],
   "source": [
    "# TODO try to implement also a solve_ivp solver\n",
    "def sir_solver(t,beta_matrix,gamma,mu_group,phi, rho,eta_group,x0,start_vaccination):\n",
    "\n",
    "    def assign_vaccination_rate(t, eta, start_vaccination):\n",
    "        \"\"\"\n",
    "        Auxiliary function to assign time-dependent vaccination rate eta\n",
    "        \"\"\"\n",
    "        if t < start_vaccination or start_vaccination == -1: # -1 means no vaccination for a specific age group\n",
    "            return 0\n",
    "        else:\n",
    "            return eta\n",
    "    \n",
    "    def sir(x,t,beta_matrix,gamma,mu_group,phi,rho,eta_group,start_vaccination,assign_vaccination_rate):\n",
    "        n_groups = len(start_vaccination) # or any other \"_group\" parameter\n",
    "        derivatives_matrix = np.zeros((5,4)) # save all derivatives in a 2-D array\n",
    "        n_infectious = [x[j+n_groups] for j in range(0,n_groups)] # list of the infectious measured for each group\n",
    "        for j in range(0,n_groups):\n",
    "            s = x[j] # Susceptible\n",
    "            # i = n_infectious[j]\n",
    "            i = x[j+n_groups] # Infectious\n",
    "            r = x[j+n_groups*2] # Recovered\n",
    "            v = x[j+n_groups*3] # Vaccinated\n",
    "            d = x[j+n_groups*4] # Deceased\n",
    "            eta = assign_vaccination_rate(t,eta_group[j],start_vaccination[j]) # time-dependent parameter\n",
    "            derivatives_matrix[0][j] = phi*r - eta*s + rho*v - s*np.dot(beta_matrix[j],n_infectious) # dsdt\n",
    "            derivatives_matrix[1][j] = s*np.dot(beta_matrix[j],n_infectious) - gamma*i - mu_group[j]*i # didt\n",
    "            derivatives_matrix[2][j] = gamma*i - phi*r # drdt\n",
    "            derivatives_matrix[3][j] = eta*s - rho*v # dvdt\n",
    "            derivatives_matrix[4][j] = mu_group[j]*i # dddt\n",
    "        return derivatives_matrix.reshape(-1) # return all measurements with a 1-D array\n",
    "\n",
    "    y = odeint(sir,x0,t,args=(beta_matrix,gamma,mu_group,phi,rho,eta_group,start_vaccination,assign_vaccination_rate,)) \n",
    "    return y "
   ]
  },
  {
   "cell_type": "markdown",
   "metadata": {},
   "source": [
    "### Definition of constants"
   ]
  },
  {
   "cell_type": "markdown",
   "metadata": {},
   "source": [
    "We considered these groups:\n",
    "- Children (0-9 years)\n",
    "- Teenagers (10-19 years)\n",
    "- Adults (20-69 years)\n",
    "- Senior Citizens (70+ years)\n",
    "\n",
    "In the following initial conditions and parameters, we define an indexing like this:\n",
    "\n",
    "    S_0_GROUP = [x, y, w, y]\n",
    "        - x is the intitial number of susceptible in \"Children\" group\n",
    "        - y is the intitial number of susceptible in \"Teenagers\" group\n",
    "        - w is the intitial number of susceptible in \"Adults\" group\n",
    "        - z is the intitial number of susceptible in \"Senior Citizens\" group\n",
    "\n",
    "We can change the value of the costants, according to the experiments we want to run and the graphs we want to analyze."
   ]
  },
  {
   "cell_type": "code",
   "execution_count": 3,
   "metadata": {},
   "outputs": [],
   "source": [
    "group_dict = {\n",
    "    \"children\": 0,\n",
    "    \"teenagers\": 1,\n",
    "    \"adults\": 2,\n",
    "    \"senior\": 3\n",
    "}\n",
    "START = 0 # day of start of the observation period\n",
    "END = 365 # day of end of the observation period\n",
    "START_VACCINATION_GROUP = [-1, -1, -1, -1] # day of start of the vaccination period (-1 -> no vaccination)\n",
    "\n",
    "# initial conditions\n",
    "S_0_GROUP = [0.99, 0.99, 0.99, 0.99] # Susceptible\n",
    "I_0_GROUP = [0.01, 0.01, 0.01, 0.01] # Infectious\n",
    "R_0_GROUP = [0, 0, 0, 0] # Recovered\n",
    "V_0_GROUP = [0, 0, 0, 0] # Vaccinated\n",
    "D_0_GROUP = [0, 0, 0, 0] # Deceased\n",
    "\n",
    "# model parameters\n",
    "beta_matrix = np.array([[0.6,0,0,0],[0,0.6,0,0],[0,0,0.6,0],[0,0,0,0.6]]) # infection coefficient for each group\n",
    "gamma = 1/15 # recovery coefficient (same for all group)\n",
    "mu_group = [0.00009, 0.00005, 0.00688, 0.15987] # mortality coefficient for each group (case fataly rate ISS report January 2021)\n",
    "phi = 1/180 # transfer rate for loss of immunity from recovered (six months of immunity and same for all group)\n",
    "rho = 1/270 # transfer rate for loss of immunity from vaccinated (nine months of immunity and same for all group)\n",
    "eta_group = [0.003, 0.003, 0.003, 0.01] # vaccination rate for each group\n",
    "\n",
    "t = np.linspace(START,END,END-START+1) # setting the simulation time and the number of points"
   ]
  },
  {
   "cell_type": "markdown",
   "metadata": {},
   "source": [
    "### Function call"
   ]
  },
  {
   "cell_type": "code",
   "execution_count": 4,
   "metadata": {
    "scrolled": true
   },
   "outputs": [],
   "source": [
    "results_dict = {}\n",
    "x_0 = [*S_0_GROUP, *I_0_GROUP, *R_0_GROUP, *V_0_GROUP, *D_0_GROUP] # unpacking list operator\n",
    "y = sir_solver(t, beta_matrix, gamma, mu_group, phi, rho, eta_group, x_0, START_VACCINATION_GROUP)\n",
    "_, n_total_column = y.shape\n",
    "n_groups = len(group_dict) # number of age groups\n",
    "n_compartments = int(n_total_column/n_groups) # number of compartments of the model\n",
    "for group_name, group_id in group_dict.items():\n",
    "    # select the right columns (the compartments) for each age group \n",
    "    results_dict[group_name] = y[:,[group_id+n_groups*j for j in range(0,n_compartments)]]"
   ]
  }
 ],
 "metadata": {
  "kernelspec": {
   "display_name": "Python 3",
   "language": "python",
   "name": "python3"
  },
  "language_info": {
   "codemirror_mode": {
    "name": "ipython",
    "version": 3
   },
   "file_extension": ".py",
   "mimetype": "text/x-python",
   "name": "python",
   "nbconvert_exporter": "python",
   "pygments_lexer": "ipython3",
   "version": "3.7.3"
  }
 },
 "nbformat": 4,
 "nbformat_minor": 2
}
